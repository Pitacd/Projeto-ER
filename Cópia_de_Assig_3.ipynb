{
  "nbformat": 4,
  "nbformat_minor": 0,
  "metadata": {
    "colab": {
      "provenance": [],
      "authorship_tag": "ABX9TyObjbBcuIMW9T8VIfmS1fCn"
    },
    "kernelspec": {
      "name": "python3",
      "display_name": "Python 3"
    },
    "language_info": {
      "name": "python"
    }
  },
  "cells": [
    {
      "cell_type": "markdown",
      "source": [
        "# 1. Load and Import Libraries and Datasets\n",
        "\n"
      ],
      "metadata": {
        "id": "g7TYiVQg-HCF"
      }
    },
    {
      "cell_type": "code",
      "execution_count": null,
      "metadata": {
        "id": "D2Zf7_7m901c"
      },
      "outputs": [],
      "source": [
        "import numpy as np\n",
        "import pandas as pd\n",
        "import matplotlib.pyplot as plt\n",
        "import seaborn as sns\n",
        "\n",
        "from sklearn.datasets import fetch_covtype, load_breast_cancer\n",
        "\n",
        "import tensorflow as tf\n",
        "from tensorflow.data import Dataset\n",
        "\n",
        "pd.set_option('display.max_columns', None)\n",
        "print(\"Versão do TensorFlow:\", tf.__version__)"
      ]
    },
    {
      "cell_type": "markdown",
      "source": [
        "## 1.1 CoverType Dataset\n",
        "\n",
        "This code loads the Covertype dataset, separates the features and target, and creates a pandas DataFrame with appropriate column names. The target variable is then added as a new column to the DataFrame.\n"
      ],
      "metadata": {
        "id": "6GaieqDk-N_1"
      }
    },
    {
      "cell_type": "code",
      "source": [
        "covtype = fetch_covtype()\n",
        "X_cov, y_cov = covtype.data, covtype.target\n",
        "\n",
        "columns_cov = covtype.feature_names\n",
        "df_cov = pd.DataFrame(X_cov, columns=columns_cov)\n",
        "df_cov[\"target\"] = y_cov"
      ],
      "metadata": {
        "id": "AifLWSQO_iJt"
      },
      "execution_count": null,
      "outputs": []
    },
    {
      "cell_type": "markdown",
      "source": [
        "### Basic Information\n",
        "\n",
        "Displays a summary of the dataset, including the number of entries, column names, and data types."
      ],
      "metadata": {
        "id": "-twXszAh_O5V"
      }
    },
    {
      "cell_type": "code",
      "source": [
        "print(\"\\n=== CoverType Resume Info  ===\")\n",
        "display(df_cov.info())"
      ],
      "metadata": {
        "id": "oAdyd3HF_kE0"
      },
      "execution_count": null,
      "outputs": []
    },
    {
      "cell_type": "markdown",
      "source": [
        "Shows basic statistical details of the numerical features, such as mean, standard deviation, min, max, and percentiles."
      ],
      "metadata": {
        "id": "nMj_BXWZ_TGd"
      }
    },
    {
      "cell_type": "code",
      "source": [
        "print(\"\\nStatistic Resume of the Features:\")\n",
        "display(df_cov.describe())"
      ],
      "metadata": {
        "id": "-qCieL7w_mJV"
      },
      "execution_count": null,
      "outputs": []
    },
    {
      "cell_type": "markdown",
      "source": [
        "Displays the first five rows of the dataset to give an overview of its structure and contents."
      ],
      "metadata": {
        "id": "CNehP_Hg_WMd"
      }
    },
    {
      "cell_type": "code",
      "source": [
        "print(\"\\n=== First lines of CoverType ===\")\n",
        "display(df_cov.head())"
      ],
      "metadata": {
        "id": "BeumMm8E_lnU"
      },
      "execution_count": null,
      "outputs": []
    },
    {
      "cell_type": "markdown",
      "source": [
        "Prints the number of unique classes in the target variable and their corresponding names."
      ],
      "metadata": {
        "id": "6rDZAC5h_bbN"
      }
    },
    {
      "cell_type": "code",
      "source": [
        "print(f\"Number of classes: {len(np.unique(y_cov))}\")\n",
        "print(f\"Name of the Classes: {covtype.target_names}\")"
      ],
      "metadata": {
        "id": "sOISVrBD-X0b"
      },
      "execution_count": null,
      "outputs": []
    },
    {
      "cell_type": "markdown",
      "source": [
        "## 1.2 Breast Cancer Dataset\n",
        "\n",
        "This code loads the Breast Cancer dataset, separates the features and target, and creates a pandas DataFrame with appropriate column names. The target variable is then added as a new column to the DataFrame."
      ],
      "metadata": {
        "id": "7RZff7JJ_vs8"
      }
    },
    {
      "cell_type": "code",
      "source": [
        "cancer = load_breast_cancer()\n",
        "X_cancer, y_cancer = cancer.data, cancer.target\n",
        "\n",
        "columns_cancer = cancer.feature_names\n",
        "df_cancer = pd.DataFrame(X_cancer, columns=columns_cancer)\n",
        "df_cancer[\"target\"] = y_cancer"
      ],
      "metadata": {
        "id": "XQ_Vyz5U_6Sc"
      },
      "execution_count": null,
      "outputs": []
    },
    {
      "cell_type": "markdown",
      "source": [
        "### Basic Information\n",
        "\n",
        "Displays a summary of the dataset, including the number of entries, column names, and data types."
      ],
      "metadata": {
        "id": "PHiTbb43Ak0M"
      }
    },
    {
      "cell_type": "code",
      "source": [
        "print(\"\\n=== Breast Cancer Resume Info  ===\")\n",
        "display(df_cancer.info())"
      ],
      "metadata": {
        "id": "Nllnnh7X_-uD"
      },
      "execution_count": null,
      "outputs": []
    },
    {
      "cell_type": "markdown",
      "source": [
        "Shows basic statistical details of the numerical features, such as mean, standard deviation, min, max, and percentiles."
      ],
      "metadata": {
        "id": "lzzBdTvRAlUk"
      }
    },
    {
      "cell_type": "code",
      "source": [
        "print(\"\\nStatistic Resume of the Features:\")\n",
        "display(df_cancer.describe())"
      ],
      "metadata": {
        "id": "2YDihK8JAEMy"
      },
      "execution_count": null,
      "outputs": []
    },
    {
      "cell_type": "markdown",
      "source": [
        "Displays the first five rows of the dataset to give an overview of its structure and contents."
      ],
      "metadata": {
        "id": "3s7QgFMFAlsT"
      }
    },
    {
      "cell_type": "code",
      "source": [
        "print(\"\\n=== First lines of Breast Cancer ===\")\n",
        "display(df_cancer.head())"
      ],
      "metadata": {
        "id": "NzgnHmIPAPd3"
      },
      "execution_count": null,
      "outputs": []
    },
    {
      "cell_type": "markdown",
      "source": [
        "Prints the number of unique classes in the target variable and their corresponding names."
      ],
      "metadata": {
        "id": "ARcsoB1bAmDU"
      }
    },
    {
      "cell_type": "code",
      "source": [
        "print(f\"Number of classes: {len(np.unique(y_cancer))}\")\n",
        "print(f\"Name of the Classes: {cancer.target_names}\")"
      ],
      "metadata": {
        "id": "qZvaA3_SAYyr"
      },
      "execution_count": null,
      "outputs": []
    },
    {
      "cell_type": "markdown",
      "source": [
        "# 2. Exploratory Data Analysis\n",
        "\n",
        "## 2.1 CoverType"
      ],
      "metadata": {
        "id": "JYd8oDv2AvYc"
      }
    },
    {
      "cell_type": "code",
      "source": [
        "def check_skewness(df, threshold=1.0):\n",
        "    skew_values = df.drop(columns=[\"target\"]).skew().sort_values(ascending=False)\n",
        "    skewed = skew_values[abs(skew_values) > threshold]\n",
        "    return skewed\n",
        "\n",
        "# --- CoverType Dataset ---\n",
        "print(\"=== CoverType Dataset ===\")\n",
        "\n",
        "# Skewed Features\n",
        "skewed_cov = check_skewness(df_cov)\n",
        "print(f\"\\nSkewed features in CoverType (|skew| > 1):\\n{skewed_cov}\")\n",
        "\n",
        "# Correlation (for multicollinearity)\n",
        "corr_matrix_cov = df_cov.drop(columns=[\"target\"]).corr()\n",
        "plt.figure(figsize=(12, 8))\n",
        "sns.heatmap(corr_matrix_cov, cmap='coolwarm', center=0, square=True, cbar_kws={'shrink': .5})\n",
        "plt.title(\"CoverType - Feature Correlation Heatmap\")\n",
        "plt.show()\n",
        "\n",
        "# --- Breast Cancer Dataset ---\n",
        "print(\"\\n=== Breast Cancer Dataset ===\")\n",
        "\n",
        "# Skewed Features\n",
        "skewed_cancer = check_skewness(df_cancer)\n",
        "print(f\"\\nSkewed features in Breast Cancer (|skew| > 1):\\n{skewed_cancer}\")\n",
        "\n",
        "# Correlation\n",
        "corr_matrix_cancer = df_cancer.drop(columns=[\"target\"]).corr()\n",
        "plt.figure(figsize=(12, 8))\n",
        "sns.heatmap(corr_matrix_cancer, cmap='coolwarm', center=0, square=True, cbar_kws={'shrink': .5})\n",
        "plt.title(\"Breast Cancer - Feature Correlation Heatmap\")\n",
        "plt.show()"
      ],
      "metadata": {
        "id": "dBWFlYMqA3pl"
      },
      "execution_count": null,
      "outputs": []
    }
  ]
}